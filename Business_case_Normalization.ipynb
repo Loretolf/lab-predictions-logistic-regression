{
 "cells": [
  {
   "cell_type": "markdown",
   "metadata": {},
   "source": [
    "## Will our customers rent a film this month?\n",
    "\n",
    "In order to know if the customers form our storse will rent a film nex noth we have to look at their previous activity and other details. Therefore, the variables incluided in our dataframe will be:\n",
    "\n",
    "    Customer ID\n",
    "    City\n",
    "    Most rented film category\n",
    "    Total films rented\n",
    "    Total money spent\n",
    "    How many films rented last month (MAY/2005)\n",
    "    If the customer rented a movie this month (JUNE/2005)\n",
    "    \n",
    "First of all, let's rigth down our query and build our dataframe."
   ]
  },
  {
   "cell_type": "code",
   "execution_count": 1,
   "metadata": {},
   "outputs": [
    {
     "name": "stdout",
     "output_type": "stream",
     "text": [
      "········\n"
     ]
    }
   ],
   "source": [
    "import pymysql\n",
    "from sqlalchemy import create_engine\n",
    "import pandas as pd\n",
    "import numpy as np\n",
    "import scipy.stats as stats\n",
    "import re\n",
    "import warnings\n",
    "import math\n",
    "from sklearn.preprocessing import OneHotEncoder\n",
    "from scipy.special import inv_boxcox\n",
    "from matplotlib import pyplot as plt\n",
    "import seaborn as sns\n",
    "from sklearn.metrics import confusion_matrix\n",
    "from sklearn.model_selection import train_test_split\n",
    "from sklearn.linear_model import LogisticRegression\n",
    "from sklearn.preprocessing import StandardScaler\n",
    "from sklearn.preprocessing import Normalizer\n",
    "\n",
    "import getpass  # to get the password without showing the input\n",
    "password = getpass.getpass()\n",
    "\n",
    "connection_string = 'mysql+pymysql://root:' + password + '@localhost/sakila'\n",
    "engine = create_engine(connection_string)"
   ]
  },
  {
   "cell_type": "code",
   "execution_count": 2,
   "metadata": {},
   "outputs": [
    {
     "data": {
      "text/html": [
       "<div>\n",
       "<style scoped>\n",
       "    .dataframe tbody tr th:only-of-type {\n",
       "        vertical-align: middle;\n",
       "    }\n",
       "\n",
       "    .dataframe tbody tr th {\n",
       "        vertical-align: top;\n",
       "    }\n",
       "\n",
       "    .dataframe thead th {\n",
       "        text-align: right;\n",
       "    }\n",
       "</style>\n",
       "<table border=\"1\" class=\"dataframe\">\n",
       "  <thead>\n",
       "    <tr style=\"text-align: right;\">\n",
       "      <th></th>\n",
       "      <th>customer_id</th>\n",
       "      <th>city</th>\n",
       "      <th>category</th>\n",
       "      <th>number_of_films_rented</th>\n",
       "      <th>total_money_spent</th>\n",
       "      <th>films_rented_may_2005</th>\n",
       "      <th>question</th>\n",
       "    </tr>\n",
       "  </thead>\n",
       "  <tbody>\n",
       "    <tr>\n",
       "      <th>0</th>\n",
       "      <td>1</td>\n",
       "      <td>Sasebo</td>\n",
       "      <td>Classics</td>\n",
       "      <td>1024</td>\n",
       "      <td>3797.76</td>\n",
       "      <td>64.0</td>\n",
       "      <td>YES</td>\n",
       "    </tr>\n",
       "    <tr>\n",
       "      <th>1</th>\n",
       "      <td>2</td>\n",
       "      <td>San Bernardino</td>\n",
       "      <td>Sports</td>\n",
       "      <td>729</td>\n",
       "      <td>3475.71</td>\n",
       "      <td>27.0</td>\n",
       "      <td>YES</td>\n",
       "    </tr>\n",
       "    <tr>\n",
       "      <th>2</th>\n",
       "      <td>3</td>\n",
       "      <td>Athenai</td>\n",
       "      <td>Action</td>\n",
       "      <td>676</td>\n",
       "      <td>3529.24</td>\n",
       "      <td>52.0</td>\n",
       "      <td>YES</td>\n",
       "    </tr>\n",
       "    <tr>\n",
       "      <th>3</th>\n",
       "      <td>4</td>\n",
       "      <td>Myingyan</td>\n",
       "      <td>Horror</td>\n",
       "      <td>484</td>\n",
       "      <td>1799.16</td>\n",
       "      <td>NaN</td>\n",
       "      <td>YES</td>\n",
       "    </tr>\n",
       "    <tr>\n",
       "      <th>4</th>\n",
       "      <td>5</td>\n",
       "      <td>Nantou</td>\n",
       "      <td>Classics</td>\n",
       "      <td>1444</td>\n",
       "      <td>5495.56</td>\n",
       "      <td>114.0</td>\n",
       "      <td>YES</td>\n",
       "    </tr>\n",
       "    <tr>\n",
       "      <th>...</th>\n",
       "      <td>...</td>\n",
       "      <td>...</td>\n",
       "      <td>...</td>\n",
       "      <td>...</td>\n",
       "      <td>...</td>\n",
       "      <td>...</td>\n",
       "      <td>...</td>\n",
       "    </tr>\n",
       "    <tr>\n",
       "      <th>594</th>\n",
       "      <td>595</td>\n",
       "      <td>Jinzhou</td>\n",
       "      <td>Documentary</td>\n",
       "      <td>900</td>\n",
       "      <td>3531.00</td>\n",
       "      <td>30.0</td>\n",
       "      <td>YES</td>\n",
       "    </tr>\n",
       "    <tr>\n",
       "      <th>595</th>\n",
       "      <td>596</td>\n",
       "      <td>Patras</td>\n",
       "      <td>Sports</td>\n",
       "      <td>784</td>\n",
       "      <td>2708.16</td>\n",
       "      <td>168.0</td>\n",
       "      <td>YES</td>\n",
       "    </tr>\n",
       "    <tr>\n",
       "      <th>596</th>\n",
       "      <td>597</td>\n",
       "      <td>Sullana</td>\n",
       "      <td>Foreign</td>\n",
       "      <td>625</td>\n",
       "      <td>2493.75</td>\n",
       "      <td>50.0</td>\n",
       "      <td>YES</td>\n",
       "    </tr>\n",
       "    <tr>\n",
       "      <th>597</th>\n",
       "      <td>598</td>\n",
       "      <td>Lausanne</td>\n",
       "      <td>Comedy</td>\n",
       "      <td>484</td>\n",
       "      <td>1843.16</td>\n",
       "      <td>NaN</td>\n",
       "      <td>YES</td>\n",
       "    </tr>\n",
       "    <tr>\n",
       "      <th>598</th>\n",
       "      <td>599</td>\n",
       "      <td>Tieli</td>\n",
       "      <td>Comedy</td>\n",
       "      <td>361</td>\n",
       "      <td>1592.39</td>\n",
       "      <td>19.0</td>\n",
       "      <td>YES</td>\n",
       "    </tr>\n",
       "  </tbody>\n",
       "</table>\n",
       "<p>599 rows × 7 columns</p>\n",
       "</div>"
      ],
      "text/plain": [
       "     customer_id            city     category  number_of_films_rented  \\\n",
       "0              1          Sasebo     Classics                    1024   \n",
       "1              2  San Bernardino       Sports                     729   \n",
       "2              3         Athenai       Action                     676   \n",
       "3              4        Myingyan       Horror                     484   \n",
       "4              5          Nantou     Classics                    1444   \n",
       "..           ...             ...          ...                     ...   \n",
       "594          595         Jinzhou  Documentary                     900   \n",
       "595          596          Patras       Sports                     784   \n",
       "596          597         Sullana      Foreign                     625   \n",
       "597          598        Lausanne       Comedy                     484   \n",
       "598          599           Tieli       Comedy                     361   \n",
       "\n",
       "     total_money_spent  films_rented_may_2005 question  \n",
       "0              3797.76                   64.0      YES  \n",
       "1              3475.71                   27.0      YES  \n",
       "2              3529.24                   52.0      YES  \n",
       "3              1799.16                    NaN      YES  \n",
       "4              5495.56                  114.0      YES  \n",
       "..                 ...                    ...      ...  \n",
       "594            3531.00                   30.0      YES  \n",
       "595            2708.16                  168.0      YES  \n",
       "596            2493.75                   50.0      YES  \n",
       "597            1843.16                    NaN      YES  \n",
       "598            1592.39                   19.0      YES  \n",
       "\n",
       "[599 rows x 7 columns]"
      ]
     },
     "execution_count": 2,
     "metadata": {},
     "output_type": "execute_result"
    }
   ],
   "source": [
    "query='''SELECT customer_table.customer_id, city, category, number_of_films_rented, total_money_spent, table_query4.films_rented_may_2005, table_query5.question\n",
    "FROM query1 as table_query1 \n",
    "LEFT JOIN query2 as table_query2 on table_query1.customer_id = table_query2.customer_id\n",
    "LEFT JOIN query3 as table_query3 on table_query1.customer_id = table_query3.customer_id\n",
    "LEFT JOIN query4 as table_query4 on table_query1.customer_id = table_query4.customer_id\n",
    "LEFT JOIN query5 as table_query5 on table_query1.customer_id = table_query5.customer_id\n",
    "LEFT JOIN sakila.customer as customer_table on table_query1.customer_id = customer_table.customer_id \n",
    "LEFT JOIN sakila.address as address_table on customer_table.address_id = address_table.address_id\n",
    "LEFT JOIN sakila.city as city_table on address_table.city_id = city_table.city_id\n",
    ";'''\n",
    "\n",
    "data=pd.read_sql_query(query,engine)\n",
    "data"
   ]
  },
  {
   "cell_type": "code",
   "execution_count": 3,
   "metadata": {},
   "outputs": [
    {
     "data": {
      "text/html": [
       "<div>\n",
       "<style scoped>\n",
       "    .dataframe tbody tr th:only-of-type {\n",
       "        vertical-align: middle;\n",
       "    }\n",
       "\n",
       "    .dataframe tbody tr th {\n",
       "        vertical-align: top;\n",
       "    }\n",
       "\n",
       "    .dataframe thead th {\n",
       "        text-align: right;\n",
       "    }\n",
       "</style>\n",
       "<table border=\"1\" class=\"dataframe\">\n",
       "  <thead>\n",
       "    <tr style=\"text-align: right;\">\n",
       "      <th></th>\n",
       "      <th>city</th>\n",
       "      <th>category</th>\n",
       "      <th>number_of_films_rented</th>\n",
       "      <th>total_money_spent</th>\n",
       "      <th>films_rented_may_2005</th>\n",
       "      <th>question</th>\n",
       "    </tr>\n",
       "    <tr>\n",
       "      <th>customer_id</th>\n",
       "      <th></th>\n",
       "      <th></th>\n",
       "      <th></th>\n",
       "      <th></th>\n",
       "      <th></th>\n",
       "      <th></th>\n",
       "    </tr>\n",
       "  </thead>\n",
       "  <tbody>\n",
       "    <tr>\n",
       "      <th>1</th>\n",
       "      <td>Sasebo</td>\n",
       "      <td>Classics</td>\n",
       "      <td>1024</td>\n",
       "      <td>3797.76</td>\n",
       "      <td>64.0</td>\n",
       "      <td>YES</td>\n",
       "    </tr>\n",
       "    <tr>\n",
       "      <th>2</th>\n",
       "      <td>San Bernardino</td>\n",
       "      <td>Sports</td>\n",
       "      <td>729</td>\n",
       "      <td>3475.71</td>\n",
       "      <td>27.0</td>\n",
       "      <td>YES</td>\n",
       "    </tr>\n",
       "    <tr>\n",
       "      <th>3</th>\n",
       "      <td>Athenai</td>\n",
       "      <td>Action</td>\n",
       "      <td>676</td>\n",
       "      <td>3529.24</td>\n",
       "      <td>52.0</td>\n",
       "      <td>YES</td>\n",
       "    </tr>\n",
       "    <tr>\n",
       "      <th>4</th>\n",
       "      <td>Myingyan</td>\n",
       "      <td>Horror</td>\n",
       "      <td>484</td>\n",
       "      <td>1799.16</td>\n",
       "      <td>NaN</td>\n",
       "      <td>YES</td>\n",
       "    </tr>\n",
       "    <tr>\n",
       "      <th>5</th>\n",
       "      <td>Nantou</td>\n",
       "      <td>Classics</td>\n",
       "      <td>1444</td>\n",
       "      <td>5495.56</td>\n",
       "      <td>114.0</td>\n",
       "      <td>YES</td>\n",
       "    </tr>\n",
       "    <tr>\n",
       "      <th>...</th>\n",
       "      <td>...</td>\n",
       "      <td>...</td>\n",
       "      <td>...</td>\n",
       "      <td>...</td>\n",
       "      <td>...</td>\n",
       "      <td>...</td>\n",
       "    </tr>\n",
       "    <tr>\n",
       "      <th>595</th>\n",
       "      <td>Jinzhou</td>\n",
       "      <td>Documentary</td>\n",
       "      <td>900</td>\n",
       "      <td>3531.00</td>\n",
       "      <td>30.0</td>\n",
       "      <td>YES</td>\n",
       "    </tr>\n",
       "    <tr>\n",
       "      <th>596</th>\n",
       "      <td>Patras</td>\n",
       "      <td>Sports</td>\n",
       "      <td>784</td>\n",
       "      <td>2708.16</td>\n",
       "      <td>168.0</td>\n",
       "      <td>YES</td>\n",
       "    </tr>\n",
       "    <tr>\n",
       "      <th>597</th>\n",
       "      <td>Sullana</td>\n",
       "      <td>Foreign</td>\n",
       "      <td>625</td>\n",
       "      <td>2493.75</td>\n",
       "      <td>50.0</td>\n",
       "      <td>YES</td>\n",
       "    </tr>\n",
       "    <tr>\n",
       "      <th>598</th>\n",
       "      <td>Lausanne</td>\n",
       "      <td>Comedy</td>\n",
       "      <td>484</td>\n",
       "      <td>1843.16</td>\n",
       "      <td>NaN</td>\n",
       "      <td>YES</td>\n",
       "    </tr>\n",
       "    <tr>\n",
       "      <th>599</th>\n",
       "      <td>Tieli</td>\n",
       "      <td>Comedy</td>\n",
       "      <td>361</td>\n",
       "      <td>1592.39</td>\n",
       "      <td>19.0</td>\n",
       "      <td>YES</td>\n",
       "    </tr>\n",
       "  </tbody>\n",
       "</table>\n",
       "<p>599 rows × 6 columns</p>\n",
       "</div>"
      ],
      "text/plain": [
       "                       city     category  number_of_films_rented  \\\n",
       "customer_id                                                        \n",
       "1                    Sasebo     Classics                    1024   \n",
       "2            San Bernardino       Sports                     729   \n",
       "3                   Athenai       Action                     676   \n",
       "4                  Myingyan       Horror                     484   \n",
       "5                    Nantou     Classics                    1444   \n",
       "...                     ...          ...                     ...   \n",
       "595                 Jinzhou  Documentary                     900   \n",
       "596                  Patras       Sports                     784   \n",
       "597                 Sullana      Foreign                     625   \n",
       "598                Lausanne       Comedy                     484   \n",
       "599                   Tieli       Comedy                     361   \n",
       "\n",
       "             total_money_spent  films_rented_may_2005 question  \n",
       "customer_id                                                     \n",
       "1                      3797.76                   64.0      YES  \n",
       "2                      3475.71                   27.0      YES  \n",
       "3                      3529.24                   52.0      YES  \n",
       "4                      1799.16                    NaN      YES  \n",
       "5                      5495.56                  114.0      YES  \n",
       "...                        ...                    ...      ...  \n",
       "595                    3531.00                   30.0      YES  \n",
       "596                    2708.16                  168.0      YES  \n",
       "597                    2493.75                   50.0      YES  \n",
       "598                    1843.16                    NaN      YES  \n",
       "599                    1592.39                   19.0      YES  \n",
       "\n",
       "[599 rows x 6 columns]"
      ]
     },
     "execution_count": 3,
     "metadata": {},
     "output_type": "execute_result"
    }
   ],
   "source": [
    "data=data.set_index('customer_id')\n",
    "data"
   ]
  },
  {
   "cell_type": "markdown",
   "metadata": {},
   "source": [
    "## Anybody said NANs?\n",
    "\n",
    "Once we have our main dataframe. Lets explore its features. Since we have done a left join on our tables. We should be aware of the null values:\n",
    "\n",
    "    ·Our data frame contain 79 null values in the variable \"films_rented_may_2005\". Which we can confirm, after reviewing carefully our query, than they must be replaced by zeros.\n",
    "    \n",
    "    ·We have 9 null values in our variable \"question\". Those nine valies correspond to the people who did not rented a film. Therefore, they must be replaced by NOs\n",
    "    \n",
    "Let's replace them!"
   ]
  },
  {
   "cell_type": "code",
   "execution_count": 4,
   "metadata": {},
   "outputs": [
    {
     "data": {
      "text/plain": [
       "city                       0\n",
       "category                   0\n",
       "number_of_films_rented     0\n",
       "total_money_spent          0\n",
       "films_rented_may_2005     79\n",
       "question                   9\n",
       "dtype: int64"
      ]
     },
     "execution_count": 4,
     "metadata": {},
     "output_type": "execute_result"
    }
   ],
   "source": [
    "data.isna().sum()"
   ]
  },
  {
   "cell_type": "code",
   "execution_count": 5,
   "metadata": {},
   "outputs": [],
   "source": [
    "data[\"question\"].fillna(\"NO\", inplace=True)"
   ]
  },
  {
   "cell_type": "code",
   "execution_count": 6,
   "metadata": {},
   "outputs": [],
   "source": [
    "data[\"films_rented_may_2005\"].fillna('0', inplace=True)"
   ]
  },
  {
   "cell_type": "code",
   "execution_count": 7,
   "metadata": {},
   "outputs": [
    {
     "data": {
      "text/plain": [
       "city                      0\n",
       "category                  0\n",
       "number_of_films_rented    0\n",
       "total_money_spent         0\n",
       "films_rented_may_2005     0\n",
       "question                  0\n",
       "dtype: int64"
      ]
     },
     "execution_count": 7,
     "metadata": {},
     "output_type": "execute_result"
    }
   ],
   "source": [
    "data.isna().sum()"
   ]
  },
  {
   "cell_type": "code",
   "execution_count": 8,
   "metadata": {},
   "outputs": [
    {
     "data": {
      "text/html": [
       "<div>\n",
       "<style scoped>\n",
       "    .dataframe tbody tr th:only-of-type {\n",
       "        vertical-align: middle;\n",
       "    }\n",
       "\n",
       "    .dataframe tbody tr th {\n",
       "        vertical-align: top;\n",
       "    }\n",
       "\n",
       "    .dataframe thead th {\n",
       "        text-align: right;\n",
       "    }\n",
       "</style>\n",
       "<table border=\"1\" class=\"dataframe\">\n",
       "  <thead>\n",
       "    <tr style=\"text-align: right;\">\n",
       "      <th></th>\n",
       "      <th>city</th>\n",
       "      <th>category</th>\n",
       "      <th>number_of_films_rented</th>\n",
       "      <th>total_money_spent</th>\n",
       "      <th>films_rented_may_2005</th>\n",
       "      <th>question</th>\n",
       "    </tr>\n",
       "    <tr>\n",
       "      <th>customer_id</th>\n",
       "      <th></th>\n",
       "      <th></th>\n",
       "      <th></th>\n",
       "      <th></th>\n",
       "      <th></th>\n",
       "      <th></th>\n",
       "    </tr>\n",
       "  </thead>\n",
       "  <tbody>\n",
       "    <tr>\n",
       "      <th>1</th>\n",
       "      <td>Sasebo</td>\n",
       "      <td>Classics</td>\n",
       "      <td>1024</td>\n",
       "      <td>3797.76</td>\n",
       "      <td>64</td>\n",
       "      <td>YES</td>\n",
       "    </tr>\n",
       "    <tr>\n",
       "      <th>2</th>\n",
       "      <td>San Bernardino</td>\n",
       "      <td>Sports</td>\n",
       "      <td>729</td>\n",
       "      <td>3475.71</td>\n",
       "      <td>27</td>\n",
       "      <td>YES</td>\n",
       "    </tr>\n",
       "    <tr>\n",
       "      <th>3</th>\n",
       "      <td>Athenai</td>\n",
       "      <td>Action</td>\n",
       "      <td>676</td>\n",
       "      <td>3529.24</td>\n",
       "      <td>52</td>\n",
       "      <td>YES</td>\n",
       "    </tr>\n",
       "    <tr>\n",
       "      <th>4</th>\n",
       "      <td>Myingyan</td>\n",
       "      <td>Horror</td>\n",
       "      <td>484</td>\n",
       "      <td>1799.16</td>\n",
       "      <td>0</td>\n",
       "      <td>YES</td>\n",
       "    </tr>\n",
       "    <tr>\n",
       "      <th>5</th>\n",
       "      <td>Nantou</td>\n",
       "      <td>Classics</td>\n",
       "      <td>1444</td>\n",
       "      <td>5495.56</td>\n",
       "      <td>114</td>\n",
       "      <td>YES</td>\n",
       "    </tr>\n",
       "    <tr>\n",
       "      <th>...</th>\n",
       "      <td>...</td>\n",
       "      <td>...</td>\n",
       "      <td>...</td>\n",
       "      <td>...</td>\n",
       "      <td>...</td>\n",
       "      <td>...</td>\n",
       "    </tr>\n",
       "    <tr>\n",
       "      <th>595</th>\n",
       "      <td>Jinzhou</td>\n",
       "      <td>Documentary</td>\n",
       "      <td>900</td>\n",
       "      <td>3531.00</td>\n",
       "      <td>30</td>\n",
       "      <td>YES</td>\n",
       "    </tr>\n",
       "    <tr>\n",
       "      <th>596</th>\n",
       "      <td>Patras</td>\n",
       "      <td>Sports</td>\n",
       "      <td>784</td>\n",
       "      <td>2708.16</td>\n",
       "      <td>168</td>\n",
       "      <td>YES</td>\n",
       "    </tr>\n",
       "    <tr>\n",
       "      <th>597</th>\n",
       "      <td>Sullana</td>\n",
       "      <td>Foreign</td>\n",
       "      <td>625</td>\n",
       "      <td>2493.75</td>\n",
       "      <td>50</td>\n",
       "      <td>YES</td>\n",
       "    </tr>\n",
       "    <tr>\n",
       "      <th>598</th>\n",
       "      <td>Lausanne</td>\n",
       "      <td>Comedy</td>\n",
       "      <td>484</td>\n",
       "      <td>1843.16</td>\n",
       "      <td>0</td>\n",
       "      <td>YES</td>\n",
       "    </tr>\n",
       "    <tr>\n",
       "      <th>599</th>\n",
       "      <td>Tieli</td>\n",
       "      <td>Comedy</td>\n",
       "      <td>361</td>\n",
       "      <td>1592.39</td>\n",
       "      <td>19</td>\n",
       "      <td>YES</td>\n",
       "    </tr>\n",
       "  </tbody>\n",
       "</table>\n",
       "<p>599 rows × 6 columns</p>\n",
       "</div>"
      ],
      "text/plain": [
       "                       city     category  number_of_films_rented  \\\n",
       "customer_id                                                        \n",
       "1                    Sasebo     Classics                    1024   \n",
       "2            San Bernardino       Sports                     729   \n",
       "3                   Athenai       Action                     676   \n",
       "4                  Myingyan       Horror                     484   \n",
       "5                    Nantou     Classics                    1444   \n",
       "...                     ...          ...                     ...   \n",
       "595                 Jinzhou  Documentary                     900   \n",
       "596                  Patras       Sports                     784   \n",
       "597                 Sullana      Foreign                     625   \n",
       "598                Lausanne       Comedy                     484   \n",
       "599                   Tieli       Comedy                     361   \n",
       "\n",
       "             total_money_spent films_rented_may_2005 question  \n",
       "customer_id                                                    \n",
       "1                      3797.76                    64      YES  \n",
       "2                      3475.71                    27      YES  \n",
       "3                      3529.24                    52      YES  \n",
       "4                      1799.16                     0      YES  \n",
       "5                      5495.56                   114      YES  \n",
       "...                        ...                   ...      ...  \n",
       "595                    3531.00                    30      YES  \n",
       "596                    2708.16                   168      YES  \n",
       "597                    2493.75                    50      YES  \n",
       "598                    1843.16                     0      YES  \n",
       "599                    1592.39                    19      YES  \n",
       "\n",
       "[599 rows x 6 columns]"
      ]
     },
     "execution_count": 8,
     "metadata": {},
     "output_type": "execute_result"
    }
   ],
   "source": [
    "data"
   ]
  },
  {
   "cell_type": "markdown",
   "metadata": {},
   "source": [
    "## Let's explore our date deeply\n",
    "\n",
    "First, we check if our variables are expressed the way we want for our model. If not, we apply the corresponding transformation. Which in this case, would be to convert the films_rented_may_2005 float type variable into an integer type variable. Because, nobody is going\n",
    "to rent 65,5 films."
   ]
  },
  {
   "cell_type": "code",
   "execution_count": 9,
   "metadata": {},
   "outputs": [
    {
     "data": {
      "text/plain": [
       "city                       object\n",
       "category                   object\n",
       "number_of_films_rented      int64\n",
       "total_money_spent         float64\n",
       "films_rented_may_2005      object\n",
       "question                   object\n",
       "dtype: object"
      ]
     },
     "execution_count": 9,
     "metadata": {},
     "output_type": "execute_result"
    }
   ],
   "source": [
    "data.dtypes"
   ]
  },
  {
   "cell_type": "code",
   "execution_count": 10,
   "metadata": {},
   "outputs": [
    {
     "data": {
      "text/html": [
       "<div>\n",
       "<style scoped>\n",
       "    .dataframe tbody tr th:only-of-type {\n",
       "        vertical-align: middle;\n",
       "    }\n",
       "\n",
       "    .dataframe tbody tr th {\n",
       "        vertical-align: top;\n",
       "    }\n",
       "\n",
       "    .dataframe thead th {\n",
       "        text-align: right;\n",
       "    }\n",
       "</style>\n",
       "<table border=\"1\" class=\"dataframe\">\n",
       "  <thead>\n",
       "    <tr style=\"text-align: right;\">\n",
       "      <th></th>\n",
       "      <th>city</th>\n",
       "      <th>category</th>\n",
       "      <th>number_of_films_rented</th>\n",
       "      <th>total_money_spent</th>\n",
       "      <th>films_rented_may_2005</th>\n",
       "      <th>question</th>\n",
       "    </tr>\n",
       "    <tr>\n",
       "      <th>customer_id</th>\n",
       "      <th></th>\n",
       "      <th></th>\n",
       "      <th></th>\n",
       "      <th></th>\n",
       "      <th></th>\n",
       "      <th></th>\n",
       "    </tr>\n",
       "  </thead>\n",
       "  <tbody>\n",
       "    <tr>\n",
       "      <th>1</th>\n",
       "      <td>Sasebo</td>\n",
       "      <td>Classics</td>\n",
       "      <td>1024</td>\n",
       "      <td>3797.76</td>\n",
       "      <td>64</td>\n",
       "      <td>YES</td>\n",
       "    </tr>\n",
       "    <tr>\n",
       "      <th>2</th>\n",
       "      <td>San Bernardino</td>\n",
       "      <td>Sports</td>\n",
       "      <td>729</td>\n",
       "      <td>3475.71</td>\n",
       "      <td>27</td>\n",
       "      <td>YES</td>\n",
       "    </tr>\n",
       "    <tr>\n",
       "      <th>3</th>\n",
       "      <td>Athenai</td>\n",
       "      <td>Action</td>\n",
       "      <td>676</td>\n",
       "      <td>3529.24</td>\n",
       "      <td>52</td>\n",
       "      <td>YES</td>\n",
       "    </tr>\n",
       "    <tr>\n",
       "      <th>4</th>\n",
       "      <td>Myingyan</td>\n",
       "      <td>Horror</td>\n",
       "      <td>484</td>\n",
       "      <td>1799.16</td>\n",
       "      <td>0</td>\n",
       "      <td>YES</td>\n",
       "    </tr>\n",
       "    <tr>\n",
       "      <th>5</th>\n",
       "      <td>Nantou</td>\n",
       "      <td>Classics</td>\n",
       "      <td>1444</td>\n",
       "      <td>5495.56</td>\n",
       "      <td>114</td>\n",
       "      <td>YES</td>\n",
       "    </tr>\n",
       "    <tr>\n",
       "      <th>...</th>\n",
       "      <td>...</td>\n",
       "      <td>...</td>\n",
       "      <td>...</td>\n",
       "      <td>...</td>\n",
       "      <td>...</td>\n",
       "      <td>...</td>\n",
       "    </tr>\n",
       "    <tr>\n",
       "      <th>595</th>\n",
       "      <td>Jinzhou</td>\n",
       "      <td>Documentary</td>\n",
       "      <td>900</td>\n",
       "      <td>3531.00</td>\n",
       "      <td>30</td>\n",
       "      <td>YES</td>\n",
       "    </tr>\n",
       "    <tr>\n",
       "      <th>596</th>\n",
       "      <td>Patras</td>\n",
       "      <td>Sports</td>\n",
       "      <td>784</td>\n",
       "      <td>2708.16</td>\n",
       "      <td>168</td>\n",
       "      <td>YES</td>\n",
       "    </tr>\n",
       "    <tr>\n",
       "      <th>597</th>\n",
       "      <td>Sullana</td>\n",
       "      <td>Foreign</td>\n",
       "      <td>625</td>\n",
       "      <td>2493.75</td>\n",
       "      <td>50</td>\n",
       "      <td>YES</td>\n",
       "    </tr>\n",
       "    <tr>\n",
       "      <th>598</th>\n",
       "      <td>Lausanne</td>\n",
       "      <td>Comedy</td>\n",
       "      <td>484</td>\n",
       "      <td>1843.16</td>\n",
       "      <td>0</td>\n",
       "      <td>YES</td>\n",
       "    </tr>\n",
       "    <tr>\n",
       "      <th>599</th>\n",
       "      <td>Tieli</td>\n",
       "      <td>Comedy</td>\n",
       "      <td>361</td>\n",
       "      <td>1592.39</td>\n",
       "      <td>19</td>\n",
       "      <td>YES</td>\n",
       "    </tr>\n",
       "  </tbody>\n",
       "</table>\n",
       "<p>599 rows × 6 columns</p>\n",
       "</div>"
      ],
      "text/plain": [
       "                       city     category  number_of_films_rented  \\\n",
       "customer_id                                                        \n",
       "1                    Sasebo     Classics                    1024   \n",
       "2            San Bernardino       Sports                     729   \n",
       "3                   Athenai       Action                     676   \n",
       "4                  Myingyan       Horror                     484   \n",
       "5                    Nantou     Classics                    1444   \n",
       "...                     ...          ...                     ...   \n",
       "595                 Jinzhou  Documentary                     900   \n",
       "596                  Patras       Sports                     784   \n",
       "597                 Sullana      Foreign                     625   \n",
       "598                Lausanne       Comedy                     484   \n",
       "599                   Tieli       Comedy                     361   \n",
       "\n",
       "             total_money_spent  films_rented_may_2005 question  \n",
       "customer_id                                                     \n",
       "1                      3797.76                     64      YES  \n",
       "2                      3475.71                     27      YES  \n",
       "3                      3529.24                     52      YES  \n",
       "4                      1799.16                      0      YES  \n",
       "5                      5495.56                    114      YES  \n",
       "...                        ...                    ...      ...  \n",
       "595                    3531.00                     30      YES  \n",
       "596                    2708.16                    168      YES  \n",
       "597                    2493.75                     50      YES  \n",
       "598                    1843.16                      0      YES  \n",
       "599                    1592.39                     19      YES  \n",
       "\n",
       "[599 rows x 6 columns]"
      ]
     },
     "execution_count": 10,
     "metadata": {},
     "output_type": "execute_result"
    }
   ],
   "source": [
    "data['films_rented_may_2005'] = data['films_rented_may_2005'].apply(lambda x: int((float(x))))\n",
    "data"
   ]
  },
  {
   "cell_type": "markdown",
   "metadata": {},
   "source": [
    "## Our numerical data\n",
    "\n",
    "We can see that we may have outliers but that they wont be a lot, since our maximum values and the 75% quartile are not so far from each other."
   ]
  },
  {
   "cell_type": "code",
   "execution_count": 11,
   "metadata": {},
   "outputs": [
    {
     "data": {
      "text/html": [
       "<div>\n",
       "<style scoped>\n",
       "    .dataframe tbody tr th:only-of-type {\n",
       "        vertical-align: middle;\n",
       "    }\n",
       "\n",
       "    .dataframe tbody tr th {\n",
       "        vertical-align: top;\n",
       "    }\n",
       "\n",
       "    .dataframe thead th {\n",
       "        text-align: right;\n",
       "    }\n",
       "</style>\n",
       "<table border=\"1\" class=\"dataframe\">\n",
       "  <thead>\n",
       "    <tr style=\"text-align: right;\">\n",
       "      <th></th>\n",
       "      <th>number_of_films_rented</th>\n",
       "      <th>total_money_spent</th>\n",
       "      <th>films_rented_may_2005</th>\n",
       "    </tr>\n",
       "  </thead>\n",
       "  <tbody>\n",
       "    <tr>\n",
       "      <th>count</th>\n",
       "      <td>599.000000</td>\n",
       "      <td>599.000000</td>\n",
       "      <td>599.000000</td>\n",
       "    </tr>\n",
       "    <tr>\n",
       "      <th>mean</th>\n",
       "      <td>743.751252</td>\n",
       "      <td>3127.400551</td>\n",
       "      <td>53.287145</td>\n",
       "    </tr>\n",
       "    <tr>\n",
       "      <th>std</th>\n",
       "      <td>283.263760</td>\n",
       "      <td>1274.903607</td>\n",
       "      <td>43.397876</td>\n",
       "    </tr>\n",
       "    <tr>\n",
       "      <th>min</th>\n",
       "      <td>144.000000</td>\n",
       "      <td>634.560000</td>\n",
       "      <td>0.000000</td>\n",
       "    </tr>\n",
       "    <tr>\n",
       "      <th>25%</th>\n",
       "      <td>529.000000</td>\n",
       "      <td>2232.700000</td>\n",
       "      <td>25.000000</td>\n",
       "    </tr>\n",
       "    <tr>\n",
       "      <th>50%</th>\n",
       "      <td>676.000000</td>\n",
       "      <td>2943.750000</td>\n",
       "      <td>46.000000</td>\n",
       "    </tr>\n",
       "    <tr>\n",
       "      <th>75%</th>\n",
       "      <td>900.000000</td>\n",
       "      <td>3800.580000</td>\n",
       "      <td>70.000000</td>\n",
       "    </tr>\n",
       "    <tr>\n",
       "      <th>max</th>\n",
       "      <td>2116.000000</td>\n",
       "      <td>9969.750000</td>\n",
       "      <td>320.000000</td>\n",
       "    </tr>\n",
       "  </tbody>\n",
       "</table>\n",
       "</div>"
      ],
      "text/plain": [
       "       number_of_films_rented  total_money_spent  films_rented_may_2005\n",
       "count              599.000000         599.000000             599.000000\n",
       "mean               743.751252        3127.400551              53.287145\n",
       "std                283.263760        1274.903607              43.397876\n",
       "min                144.000000         634.560000               0.000000\n",
       "25%                529.000000        2232.700000              25.000000\n",
       "50%                676.000000        2943.750000              46.000000\n",
       "75%                900.000000        3800.580000              70.000000\n",
       "max               2116.000000        9969.750000             320.000000"
      ]
     },
     "execution_count": 11,
     "metadata": {},
     "output_type": "execute_result"
    }
   ],
   "source": [
    "data.describe()"
   ]
  },
  {
   "cell_type": "markdown",
   "metadata": {},
   "source": [
    "Let's plot it to check it"
   ]
  },
  {
   "cell_type": "code",
   "execution_count": 12,
   "metadata": {},
   "outputs": [
    {
     "data": {
      "image/png": "[encoded data removed]",
      "text/plain": [
       "<Figure size 432x576 with 1 Axes>"
      ]
     },
     "metadata": {
      "needs_background": "light"
     },
     "output_type": "display_data"
    }
   ],
   "source": [
    "plt.figure(figsize=(6,8))\n",
    "sns.boxplot(y=\"number_of_films_rented\", data=data)\n",
    "plt.show()"
   ]
  },
  {
   "cell_type": "code",
   "execution_count": 13,
   "metadata": {},
   "outputs": [
    {
     "data": {
      "image/png": "[encoded data removed]",
      "text/plain": [
       "<Figure size 432x576 with 1 Axes>"
      ]
     },
     "metadata": {
      "needs_background": "light"
     },
     "output_type": "display_data"
    }
   ],
   "source": [
    "plt.figure(figsize=(6,8))\n",
    "sns.boxplot(y=\"total_money_spent\", data=data)\n",
    "plt.show()"
   ]
  },
  {
   "cell_type": "code",
   "execution_count": 14,
   "metadata": {},
   "outputs": [
    {
     "data": {
      "image/png": "[encoded data removed]",
      "text/plain": [
       "<Figure size 432x576 with 1 Axes>"
      ]
     },
     "metadata": {
      "needs_background": "light"
     },
     "output_type": "display_data"
    }
   ],
   "source": [
    "plt.figure(figsize=(6,8))\n",
    "sns.boxplot(y=\"films_rented_may_2005\", data=data)\n",
    "plt.show()"
   ]
  },
  {
   "cell_type": "markdown",
   "metadata": {},
   "source": [
    "### Are their distributiones pretty?\n",
    "\n",
    "We see that the variable with the highest number of outliers is 'films_rented_may_2005'. But since they are not a huge amount, they might not 'disturb' us. This one is also the less normaly distributed. \n",
    "\n",
    "Isn't it clear with the boxplot?"
   ]
  },
  {
   "cell_type": "code",
   "execution_count": 15,
   "metadata": {},
   "outputs": [
    {
     "data": {
      "image/png": "[encoded data removed]",
      "text/plain": [
       "<Figure size 360x360 with 1 Axes>"
      ]
     },
     "metadata": {
      "needs_background": "light"
     },
     "output_type": "display_data"
    },
    {
     "data": {
      "image/png": "[encoded data removed]",
      "text/plain": [
       "<Figure size 360x360 with 1 Axes>"
      ]
     },
     "metadata": {
      "needs_background": "light"
     },
     "output_type": "display_data"
    },
    {
     "data": {
      "image/png": "[encoded data removed]",
      "text/plain": [
       "<Figure size 360x360 with 1 Axes>"
      ]
     },
     "metadata": {
      "needs_background": "light"
     },
     "output_type": "display_data"
    }
   ],
   "source": [
    "for col in data.select_dtypes(np.number):\n",
    "    sns.displot(data[col])\n",
    "    plt.show()"
   ]
  },
  {
   "cell_type": "markdown",
   "metadata": {},
   "source": [
    "Bit skewed to the right all of them. Which one the most? 'films_rented_may_2005' as we already saw before. It is not only skewed but also have few futher outliers and less normal distribution than the others.\n",
    "\n",
    "#### Would this affect our model? \n",
    "\n",
    "We will see"
   ]
  },
  {
   "cell_type": "markdown",
   "metadata": {},
   "source": [
    "#### What about their relations to each other?\n",
    "\n",
    "We clearly see that 'total_money_spent' has a high positive correlation witht the 'number_of_films_rented'. But our logic said that before.\n",
    "\n",
    "However, the correlation between 'films_rented_may_2005' and the two others is kindda exponential? totale uncorrelated? What we should take into account here is that, both variables are a TOTAL from a WHOLE period, meanwhile the TOTAL from films_rented_may_2005 is just from A MONTH period."
   ]
  },
  {
   "cell_type": "code",
   "execution_count": 16,
   "metadata": {},
   "outputs": [
    {
     "data": {
      "text/plain": [
       "<seaborn.axisgrid.PairGrid at 0x20beadd8b50>"
      ]
     },
     "execution_count": 16,
     "metadata": {},
     "output_type": "execute_result"
    },
    {
     "data": {
      "image/png": "[encoded data removed]",
      "text/plain": [
       "<Figure size 540x540 with 12 Axes>"
      ]
     },
     "metadata": {
      "needs_background": "light"
     },
     "output_type": "display_data"
    }
   ],
   "source": [
    "sns.pairplot(data)"
   ]
  },
  {
   "cell_type": "code",
   "execution_count": 17,
   "metadata": {},
   "outputs": [
    {
     "data": {
      "image/png": "[encoded data removed]",
      "text/plain": [
       "<Figure size 432x288 with 2 Axes>"
      ]
     },
     "metadata": {
      "needs_background": "light"
     },
     "output_type": "display_data"
    }
   ],
   "source": [
    "corr_data = data.select_dtypes([np.number])\n",
    "correlations_matrix = corr_data.corr()  # method='spearman'\n",
    "correlations_matrix\n",
    "sns.heatmap(correlations_matrix, annot=True) \n",
    "plt.show()"
   ]
  },
  {
   "cell_type": "markdown",
   "metadata": {},
   "source": [
    "## Our categorical data\n",
    "\n",
    "Let's see now how are our categorical varibales and their relationship with the numerical ones."
   ]
  },
  {
   "cell_type": "code",
   "execution_count": 18,
   "metadata": {},
   "outputs": [
    {
     "data": {
      "image/png": "[encoded data removed]",
      "text/plain": [
       "<Figure size 1080x720 with 1 Axes>"
      ]
     },
     "metadata": {
      "needs_background": "light"
     },
     "output_type": "display_data"
    }
   ],
   "source": [
    "plt.figure(figsize=(15,10))\n",
    "data['category'].hist()\n",
    "plt.show()"
   ]
  },
  {
   "cell_type": "code",
   "execution_count": 19,
   "metadata": {},
   "outputs": [
    {
     "data": {
      "image/png": "[encoded data removed]",
      "text/plain": [
       "<Figure size 360x360 with 1 Axes>"
      ]
     },
     "metadata": {
      "needs_background": "light"
     },
     "output_type": "display_data"
    }
   ],
   "source": [
    "plt.figure(figsize=(5,5))\n",
    "data['question'].hist()\n",
    "plt.show()"
   ]
  },
  {
   "cell_type": "markdown",
   "metadata": {},
   "source": [
    "#### we already know this may cause some problems in our model..."
   ]
  },
  {
   "cell_type": "code",
   "execution_count": 20,
   "metadata": {},
   "outputs": [
    {
     "data": {
      "image/png": "[encoded data removed]",
      "text/plain": [
       "<Figure size 864x720 with 1 Axes>"
      ]
     },
     "metadata": {
      "needs_background": "light"
     },
     "output_type": "display_data"
    }
   ],
   "source": [
    "plt.figure(figsize=(12,10))\n",
    "sns.barplot(x=\"category\", y=\"total_money_spent\", data=data)\n",
    "plt.show()"
   ]
  },
  {
   "cell_type": "code",
   "execution_count": 21,
   "metadata": {},
   "outputs": [
    {
     "data": {
      "image/png": "[encoded data removed]",
      "text/plain": [
       "<Figure size 864x720 with 1 Axes>"
      ]
     },
     "metadata": {
      "needs_background": "light"
     },
     "output_type": "display_data"
    }
   ],
   "source": [
    "plt.figure(figsize=(12,10))\n",
    "sns.barplot(x=\"category\", y=\"films_rented_may_2005\", data=data)\n",
    "plt.show()"
   ]
  },
  {
   "cell_type": "markdown",
   "metadata": {},
   "source": [
    "## Our model\n",
    "\n",
    "Let's focus. We want to know wether our customers will be renting a film this month or not. Therefore, our target variable is going to be 'question'. \n",
    "\n",
    "In order to properly build and train our model we first have to dummify our categorical variables. \n",
    "\n",
    "AND take care of the imbalance we saw before in our target."
   ]
  },
  {
   "cell_type": "code",
   "execution_count": 22,
   "metadata": {},
   "outputs": [
    {
     "data": {
      "text/plain": [
       "YES    590\n",
       "NO       9\n",
       "Name: question, dtype: int64"
      ]
     },
     "execution_count": 22,
     "metadata": {},
     "output_type": "execute_result"
    }
   ],
   "source": [
    "data[\"question\"].value_counts()"
   ]
  },
  {
   "cell_type": "code",
   "execution_count": 23,
   "metadata": {},
   "outputs": [],
   "source": [
    "y = data['question']\n",
    "X = data.drop(columns=['question', 'city'])\n",
    "\n",
    "nums=X.select_dtypes(include=np.number)\n",
    "cats=X.select_dtypes(include=np.object)"
   ]
  },
  {
   "cell_type": "code",
   "execution_count": 24,
   "metadata": {},
   "outputs": [
    {
     "data": {
      "text/html": [
       "<div>\n",
       "<style scoped>\n",
       "    .dataframe tbody tr th:only-of-type {\n",
       "        vertical-align: middle;\n",
       "    }\n",
       "\n",
       "    .dataframe tbody tr th {\n",
       "        vertical-align: top;\n",
       "    }\n",
       "\n",
       "    .dataframe thead th {\n",
       "        text-align: right;\n",
       "    }\n",
       "</style>\n",
       "<table border=\"1\" class=\"dataframe\">\n",
       "  <thead>\n",
       "    <tr style=\"text-align: right;\">\n",
       "      <th></th>\n",
       "      <th>0</th>\n",
       "      <th>1</th>\n",
       "      <th>2</th>\n",
       "    </tr>\n",
       "  </thead>\n",
       "  <tbody>\n",
       "    <tr>\n",
       "      <th>0</th>\n",
       "      <td>0.260301</td>\n",
       "      <td>0.965391</td>\n",
       "      <td>0.016269</td>\n",
       "    </tr>\n",
       "    <tr>\n",
       "      <th>1</th>\n",
       "      <td>0.205269</td>\n",
       "      <td>0.978676</td>\n",
       "      <td>0.007603</td>\n",
       "    </tr>\n",
       "    <tr>\n",
       "      <th>2</th>\n",
       "      <td>0.188103</td>\n",
       "      <td>0.982043</td>\n",
       "      <td>0.014469</td>\n",
       "    </tr>\n",
       "    <tr>\n",
       "      <th>3</th>\n",
       "      <td>0.259779</td>\n",
       "      <td>0.965668</td>\n",
       "      <td>0.000000</td>\n",
       "    </tr>\n",
       "    <tr>\n",
       "      <th>4</th>\n",
       "      <td>0.254080</td>\n",
       "      <td>0.966975</td>\n",
       "      <td>0.020059</td>\n",
       "    </tr>\n",
       "    <tr>\n",
       "      <th>...</th>\n",
       "      <td>...</td>\n",
       "      <td>...</td>\n",
       "      <td>...</td>\n",
       "    </tr>\n",
       "    <tr>\n",
       "      <th>594</th>\n",
       "      <td>0.246980</td>\n",
       "      <td>0.968986</td>\n",
       "      <td>0.008233</td>\n",
       "    </tr>\n",
       "    <tr>\n",
       "      <th>595</th>\n",
       "      <td>0.277585</td>\n",
       "      <td>0.958858</td>\n",
       "      <td>0.059482</td>\n",
       "    </tr>\n",
       "    <tr>\n",
       "      <th>596</th>\n",
       "      <td>0.243062</td>\n",
       "      <td>0.969816</td>\n",
       "      <td>0.019445</td>\n",
       "    </tr>\n",
       "    <tr>\n",
       "      <th>597</th>\n",
       "      <td>0.253982</td>\n",
       "      <td>0.967209</td>\n",
       "      <td>0.000000</td>\n",
       "    </tr>\n",
       "    <tr>\n",
       "      <th>598</th>\n",
       "      <td>0.221078</td>\n",
       "      <td>0.975187</td>\n",
       "      <td>0.011636</td>\n",
       "    </tr>\n",
       "  </tbody>\n",
       "</table>\n",
       "<p>599 rows × 3 columns</p>\n",
       "</div>"
      ],
      "text/plain": [
       "            0         1         2\n",
       "0    0.260301  0.965391  0.016269\n",
       "1    0.205269  0.978676  0.007603\n",
       "2    0.188103  0.982043  0.014469\n",
       "3    0.259779  0.965668  0.000000\n",
       "4    0.254080  0.966975  0.020059\n",
       "..        ...       ...       ...\n",
       "594  0.246980  0.968986  0.008233\n",
       "595  0.277585  0.958858  0.059482\n",
       "596  0.243062  0.969816  0.019445\n",
       "597  0.253982  0.967209  0.000000\n",
       "598  0.221078  0.975187  0.011636\n",
       "\n",
       "[599 rows x 3 columns]"
      ]
     },
     "execution_count": 24,
     "metadata": {},
     "output_type": "execute_result"
    }
   ],
   "source": [
    "import pickle\n",
    "#apply Normalizer always after X,y split or else your features will carry information from the target\n",
    "transformer = Normalizer() #This Normalizer is applying a formula and it works column wise, so dont use it on the target variable\n",
    "transformer.fit(nums) #Always fit only on the trainning data\n",
    "\n",
    "with open ('transformer.pkl', 'wb') as file:\n",
    "    pickle.dump(transformer, file)  #These two lines save my object transformer where my Python notebook is\n",
    "\n",
    "with open ('transformer.pkl', 'rb') as file:\n",
    "    transformer=pickle.load(file)  #These two lines save my object transformer where my Python notebook is\n",
    "\n",
    "X = transformer.transform(nums)\n",
    "X #.shape\n",
    "pd.DataFrame(X)"
   ]
  },
  {
   "cell_type": "code",
   "execution_count": 25,
   "metadata": {},
   "outputs": [],
   "source": [
    "data=pd.get_dummies(data,columns=['category'])"
   ]
  },
  {
   "cell_type": "code",
   "execution_count": 26,
   "metadata": {},
   "outputs": [
    {
     "data": {
      "text/plain": [
       "NO     590\n",
       "YES    590\n",
       "Name: question, dtype: int64"
      ]
     },
     "execution_count": 26,
     "metadata": {},
     "output_type": "execute_result"
    }
   ],
   "source": [
    "from imblearn.over_sampling import SMOTE\n",
    "smote = SMOTE()\n",
    "\n",
    "X = data.drop(columns=['question','city'])\n",
    "y = data['question']\n",
    "\n",
    "X, y = smote.fit_resample(X, y)\n",
    "y.value_counts()"
   ]
  },
  {
   "cell_type": "markdown",
   "metadata": {},
   "source": [
    "#### Let's train our model"
   ]
  },
  {
   "cell_type": "code",
   "execution_count": 27,
   "metadata": {},
   "outputs": [],
   "source": [
    "X_train, X_test, y_train, y_test = train_test_split(X, y, test_size=0.2, random_state=42)"
   ]
  },
  {
   "cell_type": "code",
   "execution_count": 28,
   "metadata": {},
   "outputs": [
    {
     "data": {
      "text/plain": [
       "LogisticRegression(max_iter=20000, random_state=42)"
      ]
     },
     "execution_count": 28,
     "metadata": {},
     "output_type": "execute_result"
    }
   ],
   "source": [
    "classification = LogisticRegression(random_state=42, max_iter=20000)\n",
    "classification.fit(X_train, y_train)"
   ]
  },
  {
   "cell_type": "code",
   "execution_count": 29,
   "metadata": {},
   "outputs": [
    {
     "data": {
      "text/plain": [
       "0.9194915254237288"
      ]
     },
     "execution_count": 29,
     "metadata": {},
     "output_type": "execute_result"
    }
   ],
   "source": [
    "classification.score(X_test, y_test)"
   ]
  },
  {
   "cell_type": "code",
   "execution_count": 30,
   "metadata": {},
   "outputs": [
    {
     "data": {
      "text/plain": [
       "array([[114,   6],\n",
       "       [ 13, 103]], dtype=int64)"
      ]
     },
     "execution_count": 30,
     "metadata": {},
     "output_type": "execute_result"
    }
   ],
   "source": [
    "predictions = classification.predict(X_test)\n",
    "confusion_matrix(y_test, predictions)"
   ]
  },
  {
   "cell_type": "code",
   "execution_count": 31,
   "metadata": {},
   "outputs": [
    {
     "data": {
      "text/plain": [
       "NO     127\n",
       "YES    109\n",
       "dtype: int64"
      ]
     },
     "execution_count": 31,
     "metadata": {},
     "output_type": "execute_result"
    }
   ],
   "source": [
    "pd.Series(predictions).value_counts()"
   ]
  },
  {
   "cell_type": "code",
   "execution_count": 32,
   "metadata": {},
   "outputs": [
    {
     "data": {
      "text/plain": [
       "NO     120\n",
       "YES    116\n",
       "Name: question, dtype: int64"
      ]
     },
     "execution_count": 32,
     "metadata": {},
     "output_type": "execute_result"
    }
   ],
   "source": [
    "y_test.value_counts()"
   ]
  },
  {
   "cell_type": "code",
   "execution_count": 33,
   "metadata": {},
   "outputs": [
    {
     "data": {
      "text/plain": [
       "<AxesSubplot:>"
      ]
     },
     "execution_count": 33,
     "metadata": {},
     "output_type": "execute_result"
    },
    {
     "data": {
      "image/png": "[encoded data removed]",
      "text/plain": [
       "<Figure size 432x288 with 2 Axes>"
      ]
     },
     "metadata": {
      "needs_background": "light"
     },
     "output_type": "display_data"
    }
   ],
   "source": [
    "cf_matrix = confusion_matrix(y_test, predictions)\n",
    "group_names = ['True YES', 'False YES', 'True NO', 'False NO']\n",
    "group_counts = [\"{0:0.0f}\".format(value) for value in cf_matrix.flatten()]\n",
    "group_percentages = [\"{0:.2%}\".format(value) for value in cf_matrix.flatten()/np.sum(cf_matrix)]\n",
    "labels = [f\"{v1}\\n{v2}\\n{v3}\" for v1, v2, v3 in zip(group_names,group_counts,group_percentages)]\n",
    "labels = np.asarray(labels).reshape(2,2)\n",
    "sns.heatmap(cf_matrix, annot=labels, fmt='', cmap='Blues')"
   ]
  },
  {
   "cell_type": "code",
   "execution_count": 36,
   "metadata": {},
   "outputs": [
    {
     "name": "stdout",
     "output_type": "stream",
     "text": [
      "              precision    recall  f1-score   support\n",
      "\n",
      "          NO       0.90      0.95      0.92       120\n",
      "         YES       0.94      0.89      0.92       116\n",
      "\n",
      "    accuracy                           0.92       236\n",
      "   macro avg       0.92      0.92      0.92       236\n",
      "weighted avg       0.92      0.92      0.92       236\n",
      "\n"
     ]
    }
   ],
   "source": [
    "from sklearn import metrics\n",
    "print(metrics.classification_report(y_test, predictions))"
   ]
  },
  {
   "cell_type": "code",
   "execution_count": 41,
   "metadata": {},
   "outputs": [
    {
     "data": {
      "text/plain": [
       "'from sklearn import metrics\\n\\ndef plot_multiclass_roc(clf, X_test, y_test, n_classes, figsize=(17, 6)):\\n    y_score = clf.decision_function(X_test)\\n\\n    # structures\\n    fpr = dict()\\n    tpr = dict()\\n    roc_auc = dict()\\n\\n    # calculate dummies once\\n    y_test_dummies = pd.get_dummies(y_test, drop_first=False).values\\n    for i in range(n_classes):\\n        fpr[i], tpr[i], _ = metrics.roc_curve(y_test_dummies[:, i], y_score[:, i])\\n        roc_auc[i] = metrics.auc(fpr[i], tpr[i])\\n\\n    # roc for each class\\n    fig, ax = plt.subplots(figsize=figsize)\\n    ax.plot([0, 1], [0, 1], \\'k--\\')\\n    ax.set_xlim([0.0, 1.0])\\n    ax.set_ylim([0.0, 1.05])\\n    ax.set_xlabel(\\'False Positive Rate\\')\\n    ax.set_ylabel(\\'True Positive Rate\\')\\n    ax.set_title(\\'Receiver operating characteristic example\\')\\n    for i in range(n_classes):\\n        ax.plot(fpr[i], tpr[i], label=\\'ROC curve (area = %0.2f) for label %i\\' % (roc_auc[i], i))\\n    ax.legend(loc=\"best\")\\n    ax.grid(alpha=.4)\\n    sns.despine()\\n    plt.show()\\n\\nplot_multiclass_roc(classification, X_test, y_test, n_classes=4, figsize=(16, 10))'"
      ]
     },
     "execution_count": 41,
     "metadata": {},
     "output_type": "execute_result"
    }
   ],
   "source": [
    "'''from sklearn import metrics\n",
    "\n",
    "def plot_multiclass_roc(clf, X_test, y_test, n_classes, figsize=(17, 6)):\n",
    "    y_score = clf.decision_function(X_test)\n",
    "\n",
    "    # structures\n",
    "    fpr = dict()\n",
    "    tpr = dict()\n",
    "    roc_auc = dict()\n",
    "\n",
    "    # calculate dummies once\n",
    "    y_test_dummies = pd.get_dummies(y_test, drop_first=False).values\n",
    "    for i in range(n_classes):\n",
    "        fpr[i], tpr[i], _ = metrics.roc_curve(y_test_dummies[:, i], y_score[:, i])\n",
    "        roc_auc[i] = metrics.auc(fpr[i], tpr[i])\n",
    "\n",
    "    # roc for each class\n",
    "    fig, ax = plt.subplots(figsize=figsize)\n",
    "    ax.plot([0, 1], [0, 1], 'k--')\n",
    "    ax.set_xlim([0.0, 1.0])\n",
    "    ax.set_ylim([0.0, 1.05])\n",
    "    ax.set_xlabel('False Positive Rate')\n",
    "    ax.set_ylabel('True Positive Rate')\n",
    "    ax.set_title('Receiver operating characteristic example')\n",
    "    for i in range(n_classes):\n",
    "        ax.plot(fpr[i], tpr[i], label='ROC curve (area = %0.2f) for label %i' % (roc_auc[i], i))\n",
    "    ax.legend(loc=\"best\")\n",
    "    ax.grid(alpha=.4)\n",
    "    sns.despine()\n",
    "    plt.show()\n",
    "\n",
    "plot_multiclass_roc(classification, X_test, y_test, n_classes=4, figsize=(16, 10))'''"
   ]
  },
  {
   "cell_type": "markdown",
   "metadata": {},
   "source": [
    "### Conclusions\n",
    "\n",
    "The difference between normalizing our data or not doing it, does not make a remarkable difference in our predicitons. \n",
    "\n",
    "BoxCox and Log do not work for our model"
   ]
  },
  {
   "cell_type": "code",
   "execution_count": null,
   "metadata": {},
   "outputs": [],
   "source": []
  }
 ],
 "metadata": {
  "kernelspec": {
   "display_name": "Python 3",
   "language": "python",
   "name": "python3"
  },
  "language_info": {
   "codemirror_mode": {
    "name": "ipython",
    "version": 3
   },
   "file_extension": ".py",
   "mimetype": "text/x-python",
   "name": "python",
   "nbconvert_exporter": "python",
   "pygments_lexer": "ipython3",
   "version": "3.8.5"
  }
 },
 "nbformat": 4,
 "nbformat_minor": 4
}
